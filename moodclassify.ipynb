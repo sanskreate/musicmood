{
 "cells": [
  {
   "cell_type": "code",
   "execution_count": 1,
   "id": "dd62d854-d8da-4c42-8789-3f9c011cd935",
   "metadata": {
    "editable": true,
    "slideshow": {
     "slide_type": "notes"
    },
    "tags": []
   },
   "outputs": [],
   "source": [
    "# Importing necessary libraries for Spark session, DataFrame operations, and ML modeling\n",
    "from pyspark.sql import SparkSession\n",
    "from pyspark.sql.functions import col, when\n",
    "from pyspark.ml.feature import VectorAssembler\n",
    "from pyspark.ml.classification import RandomForestClassifier\n",
    "from pyspark.ml.evaluation import MulticlassClassificationEvaluator\n",
    "from pyspark.sql import functions as F\n",
    "from pyspark.ml.feature import StringIndexer"
   ]
  },
  {
   "cell_type": "code",
   "execution_count": 2,
   "id": "830835d7-f3c6-4955-b1b7-c76ad72195a6",
   "metadata": {},
   "outputs": [],
   "source": [
    "# Initialize SparkSession\n",
    "spark = SparkSession.builder.appName(\"MusicMoodClassification\").getOrCreate()"
   ]
  },
  {
   "cell_type": "code",
   "execution_count": 3,
   "id": "90264137-bf10-4359-a723-bc61653c0463",
   "metadata": {},
   "outputs": [
    {
     "name": "stdout",
     "output_type": "stream",
     "text": [
      "+--------------------+--------------------+--------------+--------------------+-------------------+----------+------+-------------------+-------------------+------------------+--------------------+-------------------+------------------+--------+-----------+------------------+---+--------------+---------+\n",
      "|                name|               album|        artist|                  id|       release_date|popularity|length|       danceability|       acousticness|            energy|    instrumentalness|           liveness|           valence|loudness|speechiness|             tempo|key|time_signature|     mood|\n",
      "+--------------------+--------------------+--------------+--------------------+-------------------+----------+------+-------------------+-------------------+------------------+--------------------+-------------------+------------------+--------+-----------+------------------+---+--------------+---------+\n",
      "|                1999|                1999|        Prince|2H7PHVdQ3mXqEHXcv...|1982-10-27 00:00:00|        68|379266|              0.866|0.13699999999999998|              0.73|                 0.0|             0.0843|             0.625|  -8.201|     0.0767|           118.523|  5|             4|    Happy|\n",
      "|                  23|                  23|Blonde Redhead|4HIwL9ii9CcXpTOTz...|2007-04-16 00:00:00|        43|318800|              0.381|             0.0189|0.8320000000000001|               0.196|              0.153|             0.166|  -5.069|     0.0492|           120.255|  8|             4|      Sad|\n",
      "|            9 Crimes|                   9|   Damien Rice|5GZEeowhvSieFDiR8...|2006-11-06 00:00:00|        60|217946|0.34600000000000003|              0.913|             0.139|7.730000000000001E-5|             0.0934|             0.116| -15.326|     0.0321|           136.168|  0|             4|      Sad|\n",
      "|      99 Luftballons|      99 Luftballons|          Nena|6HA97v4wEGQ5TUClR...|1984-08-21 00:00:00|         2|233000|              0.466|0.08900000000000001|             0.438|             5.62E-6|              0.113|0.5870000000000001| -12.858|     0.0608|             193.1|  4|             4|    Happy|\n",
      "|A Boy Brushed Red...|They're Only Chas...|     Underoath|47IWLfIKOKhFnz1FU...|2004-01-01 00:00:00|        60|268000|              0.419|            0.00171|             0.932|                 0.0|0.13699999999999998|             0.445|  -3.604|      0.106|169.88099999999997|  1|             4|Energetic|\n",
      "+--------------------+--------------------+--------------+--------------------+-------------------+----------+------+-------------------+-------------------+------------------+--------------------+-------------------+------------------+--------+-----------+------------------+---+--------------+---------+\n",
      "only showing top 5 rows\n",
      "\n"
     ]
    }
   ],
   "source": [
    "# Load the dataset\n",
    "file_path = \"data_moods.csv\" \n",
    "data = spark.read.csv(file_path, header=True, inferSchema=True)\n",
    "data.show(5)"
   ]
  },
  {
   "cell_type": "code",
   "execution_count": 4,
   "id": "13fb64a5-acbb-4992-ae30-883af270d158",
   "metadata": {},
   "outputs": [
    {
     "name": "stdout",
     "output_type": "stream",
     "text": [
      "+-------+-------------------+------------------+-------------------+-------------------+\n",
      "|summary|       danceability|            energy|            valence|           loudness|\n",
      "+-------+-------------------+------------------+-------------------+-------------------+\n",
      "|  count|                686|               686|                686|                686|\n",
      "|   mean| 0.5005527696793004| 0.507693469387755|0.34243760932944606|-11.531020408163274|\n",
      "| stddev|0.15895460348923499|0.3264900658301197| 0.2523038620731955|  7.468628623052022|\n",
      "|    min|             0.0789|           0.00129|             0.0353|            -42.018|\n",
      "|    max|              0.941|             0.994|              0.977|              1.342|\n",
      "+-------+-------------------+------------------+-------------------+-------------------+\n",
      "\n"
     ]
    }
   ],
   "source": [
    "# Fill cleaning and preprocessing\n",
    "data = data.na.fill(0)\n",
    "data = data.drop(\"mood\")\n",
    "# Performing summary of numeric columns\n",
    "data.select(\"danceability\", \"energy\", \"valence\", \"loudness\").describe().show()"
   ]
  },
  {
   "cell_type": "code",
   "execution_count": 5,
   "id": "7d24af6a-4e7a-4867-903d-e48d32810c44",
   "metadata": {},
   "outputs": [
    {
     "name": "stdout",
     "output_type": "stream",
     "text": [
      "+--------------------+--------------------+--------------------+--------------------+-------------------+----------+------+-------------------+-------------------+------------------+--------------------+-------------------+------------------+--------+-------------------+------------------+---+--------------+---------+\n",
      "|                name|               album|              artist|                  id|       release_date|popularity|length|       danceability|       acousticness|            energy|    instrumentalness|           liveness|           valence|loudness|        speechiness|             tempo|key|time_signature|     mood|\n",
      "+--------------------+--------------------+--------------------+--------------------+-------------------+----------+------+-------------------+-------------------+------------------+--------------------+-------------------+------------------+--------+-------------------+------------------+---+--------------+---------+\n",
      "|                1999|                1999|              Prince|2H7PHVdQ3mXqEHXcv...|1982-10-27 00:00:00|        68|379266|              0.866|0.13699999999999998|              0.73|                 0.0|             0.0843|             0.625|  -8.201|             0.0767|           118.523|  5|             4|    Happy|\n",
      "|                  23|                  23|      Blonde Redhead|4HIwL9ii9CcXpTOTz...|2007-04-16 00:00:00|        43|318800|              0.381|             0.0189|0.8320000000000001|               0.196|              0.153|             0.166|  -5.069|             0.0492|           120.255|  8|             4|Energetic|\n",
      "|            9 Crimes|                   9|         Damien Rice|5GZEeowhvSieFDiR8...|2006-11-06 00:00:00|        60|217946|0.34600000000000003|              0.913|             0.139|7.730000000000001E-5|             0.0934|             0.116| -15.326|             0.0321|           136.168|  0|             4|      Sad|\n",
      "|      99 Luftballons|      99 Luftballons|                Nena|6HA97v4wEGQ5TUClR...|1984-08-21 00:00:00|         2|233000|              0.466|0.08900000000000001|             0.438|             5.62E-6|              0.113|0.5870000000000001| -12.858|             0.0608|             193.1|  4|             4|     Calm|\n",
      "|A Boy Brushed Red...|They're Only Chas...|           Underoath|47IWLfIKOKhFnz1FU...|2004-01-01 00:00:00|        60|268000|              0.419|            0.00171|             0.932|                 0.0|0.13699999999999998|             0.445|  -3.604|              0.106|169.88099999999997|  1|             4|Energetic|\n",
      "|    A Burden to Bear|    A Burden to Bear|  Emmanuelle Rimbaud|67DOFCrkcQaLp5yhz...|2020-07-31 00:00:00|        27|129410|              0.394|              0.995|            0.0475|               0.955|              0.105|             0.172| -26.432|0.07200000000000001|            71.241|  6|             5|      Sad|\n",
      "|          A La Plage|          A La Plage|         Ron Adelaar|79NmiFAgcXUIVDGfC...|2020-08-07 00:00:00|        29|141888|              0.504|              0.994|            0.0584|               0.956|              0.115|0.5529999999999999| -20.461|             0.0516|           134.209|  5|             4|     Calm|\n",
      "|A Little Less Con...|Elvis 75 - Good R...|       Elvis Presley|4l2hnfUx0esSbITQa...|2009-12-28 00:00:00|         1|211173|              0.586|            1.55E-4|             0.935|               0.277|              0.159|              0.58|  -9.386|             0.0482|           114.997|  4|             4|     Calm|\n",
      "| A Place for My Head|Hybrid Theory (Bo...|         Linkin Park|5rAxhWcgFng3s570s...|2000-10-24 00:00:00|        68|184640|              0.603|             0.0144|             0.908|                 0.0| 0.6709999999999999|             0.457|  -5.254|              0.184|           133.063| 11|             4|Energetic|\n",
      "|              ATTACK|A Beautiful Lie +...|Thirty Seconds To...|6QxTWEvzcJljVZaeT...|2007-05-15 00:00:00|         0|189200|              0.331|            0.00344|0.8759999999999999|8.349999999999999E-4|              0.732|             0.299|  -1.894|             0.0603|           175.009|  5|             4|Energetic|\n",
      "+--------------------+--------------------+--------------------+--------------------+-------------------+----------+------+-------------------+-------------------+------------------+--------------------+-------------------+------------------+--------+-------------------+------------------+---+--------------+---------+\n",
      "only showing top 10 rows\n",
      "\n"
     ]
    }
   ],
   "source": [
    "# Feature Engineering\n",
    "data = data.withColumn(\n",
    "    \"mood\",\n",
    "    when((col(\"valence\") > 0.6) & (col(\"danceability\") > 0.6), \"Happy\")\n",
    "    .when((col(\"valence\") < 0.4) & (col(\"acousticness\") > 0.5), \"Sad\")\n",
    "    .when((col(\"energy\") > 0.7) & (col(\"tempo\") > 120), \"Energetic\")\n",
    "    .otherwise(\"Calm\")\n",
    ")\n",
    "data.show(10)"
   ]
  },
  {
   "cell_type": "code",
   "execution_count": 6,
   "id": "fdf5d604-4dcb-488d-a2a1-4879a9e54d70",
   "metadata": {},
   "outputs": [],
   "source": [
    "# Categoriccal Enconding and Assembling\n",
    "indexer = StringIndexer(inputCol=\"mood\", outputCol=\"mood_index\")\n",
    "data = indexer.fit(data).transform(data)\n",
    "\n",
    "feature_columns = [\"danceability\", \"energy\", \"valence\", \"acousticness\", \"tempo\", \"loudness\"]\n",
    "if \"features\" in data.columns:\n",
    "    data = data.drop(\"features\")\n",
    "assembler = VectorAssembler(inputCols=feature_columns, outputCol=\"features\")\n",
    "data = assembler.transform(data)"
   ]
  },
  {
   "cell_type": "code",
   "execution_count": 7,
   "id": "b6bce685-1491-486f-b504-edc80d03fd39",
   "metadata": {},
   "outputs": [
    {
     "name": "stdout",
     "output_type": "stream",
     "text": [
      "+---------+----------+----------+\n",
      "|     mood|mood_index|prediction|\n",
      "+---------+----------+----------+\n",
      "|      Sad|       0.0|       0.0|\n",
      "|     Calm|       1.0|       1.0|\n",
      "|Energetic|       2.0|       2.0|\n",
      "|     Calm|       1.0|       1.0|\n",
      "|    Happy|       3.0|       3.0|\n",
      "|Energetic|       2.0|       2.0|\n",
      "|     Calm|       1.0|       1.0|\n",
      "|Energetic|       2.0|       2.0|\n",
      "|Energetic|       2.0|       2.0|\n",
      "|      Sad|       0.0|       0.0|\n",
      "|      Sad|       0.0|       0.0|\n",
      "|      Sad|       0.0|       0.0|\n",
      "|     Calm|       1.0|       1.0|\n",
      "|     Calm|       1.0|       1.0|\n",
      "|Energetic|       2.0|       2.0|\n",
      "|      Sad|       0.0|       0.0|\n",
      "|Energetic|       2.0|       2.0|\n",
      "|     Calm|       1.0|       1.0|\n",
      "|      Sad|       0.0|       0.0|\n",
      "|      Sad|       0.0|       0.0|\n",
      "+---------+----------+----------+\n",
      "only showing top 20 rows\n",
      "\n",
      "Accuracy: 0.9705882352941176\n"
     ]
    }
   ],
   "source": [
    "# Building and Evaulating a Random Forest Classifier model\n",
    "train_data, test_data = data.randomSplit([0.8, 0.2])\n",
    "\n",
    "rf = RandomForestClassifier(labelCol=\"mood_index\", featuresCol=\"features\")\n",
    "model = rf.fit(train_data)\n",
    "\n",
    "predictions = model.transform(test_data)\n",
    "predictions.select(\"mood\", \"mood_index\", \"prediction\").show()\n",
    "\n",
    "predictions = model.transform(test_data)\n",
    "evaluator = MulticlassClassificationEvaluator(labelCol=\"mood_index\", metricName=\"accuracy\")\n",
    "accuracy = evaluator.evaluate(predictions)\n",
    "print(f\"Accuracy: {accuracy}\")"
   ]
  },
  {
   "cell_type": "code",
   "execution_count": 8,
   "id": "c21be83c-ef54-4e3e-ba60-41c1d0bb5ab5",
   "metadata": {},
   "outputs": [
    {
     "name": "stdout",
     "output_type": "stream",
     "text": [
      "+--------------------+--------------------+-----------------+--------------------+-------------------+----------+------+------------------+------------------+-------------------+--------------------+--------+-------+------------------+-----------+-------+---+--------------+-----+----------+--------------------+\n",
      "|                name|               album|           artist|                  id|       release_date|popularity|length|      danceability|      acousticness|             energy|    instrumentalness|liveness|valence|          loudness|speechiness|  tempo|key|time_signature| mood|mood_index|            features|\n",
      "+--------------------+--------------------+-----------------+--------------------+-------------------+----------+------+------------------+------------------+-------------------+--------------------+--------+-------+------------------+-----------+-------+---+--------------+-----+----------+--------------------+\n",
      "|     Pumped Up Kicks|             Torches|Foster The People|7w87IxuO7BDcJ3YUq...|2011-05-23 00:00:00|        84|239600|             0.733|             0.145|               0.71|               0.115|  0.0956|  0.965|            -5.849|     0.0292|127.975|  5|             4|Happy|       3.0|[0.733,0.71,0.965...|\n",
      "|              Africa|             Toto IV|             TOTO|2374M0fQpWi3dLnB5...|1982-04-08 00:00:00|        84|295893|0.6709999999999999|             0.257|              0.373|7.950000000000001E-5|  0.0481|  0.732|           -18.064|     0.0323| 92.717|  9|             4|Happy|       3.0|[0.67099999999999...|\n",
      "|            comethru|             summer,|    Jeremy Zucker|18uwL0vNUanqZH0ro...|2018-09-28 00:00:00|        78|181613|             0.795|             0.607|0.17800000000000002|                 0.0|   0.623|  0.608|           -11.991|     0.0574| 93.982|  0|             4|Happy|       3.0|[0.795,0.17800000...|\n",
      "|Get Lucky (feat. ...|Get Lucky (feat. ...|        Daft Punk|2Foc5Q5nqNiosCNqt...|2013-04-19 00:00:00|        78|248413|             0.794|            0.0426| 0.8109999999999999|             1.07E-6|   0.101|  0.862|-8.966000000000003|      0.038|116.047|  6|             4|Happy|       3.0|[0.794,0.81099999...|\n",
      "|Somebody That I U...|      Making Mirrors|            Gotye|1qDrWA6lyx8cLECdZ...|2011-01-01 00:00:00|        77|244884|             0.865|0.5479999999999999|              0.521|             1.15E-4|  0.0989|  0.748|            -6.932|     0.0371|129.059|  0|             4|Happy|       3.0|[0.865,0.521,0.74...|\n",
      "+--------------------+--------------------+-----------------+--------------------+-------------------+----------+------+------------------+------------------+-------------------+--------------------+--------+-------+------------------+-----------+-------+---+--------------+-----+----------+--------------------+\n",
      "\n"
     ]
    }
   ],
   "source": [
    "# Recommender function based on mood\n",
    "def recommend_songs(input_mood, top_n=5):\n",
    "    return data.filter(col(\"mood\") == input_mood).orderBy(col(\"popularity\").desc()).limit(top_n)\n",
    "\n",
    "# Example\n",
    "happy_songs = recommend_songs(\"Happy\")\n",
    "happy_songs.show()"
   ]
  },
  {
   "cell_type": "code",
   "execution_count": 9,
   "id": "5e6c7d1d-9712-4f01-92ce-3f2931eadce7",
   "metadata": {},
   "outputs": [],
   "source": [
    "# Stop SparkSession\n",
    "spark.stop()"
   ]
  },
  {
   "cell_type": "code",
   "execution_count": null,
   "id": "a98121a6-8263-4df1-9a34-65195867f6ac",
   "metadata": {},
   "outputs": [],
   "source": []
  }
 ],
 "metadata": {
  "kernelspec": {
   "display_name": "Python 3 (ipykernel)",
   "language": "python",
   "name": "python3"
  },
  "language_info": {
   "codemirror_mode": {
    "name": "ipython",
    "version": 3
   },
   "file_extension": ".py",
   "mimetype": "text/x-python",
   "name": "python",
   "nbconvert_exporter": "python",
   "pygments_lexer": "ipython3",
   "version": "3.12.3"
  }
 },
 "nbformat": 4,
 "nbformat_minor": 5
}
